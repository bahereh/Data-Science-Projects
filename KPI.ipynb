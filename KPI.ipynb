{
  "nbformat": 4,
  "nbformat_minor": 0,
  "metadata": {
    "colab": {
      "name": "KPI.ipynb",
      "provenance": [],
      "authorship_tag": "ABX9TyMldggYAhwiYV5izE6ZNS/I",
      "include_colab_link": true
    },
    "kernelspec": {
      "name": "python3",
      "display_name": "Python 3"
    },
    "language_info": {
      "name": "python"
    }
  },
  "cells": [
    {
      "cell_type": "markdown",
      "metadata": {
        "id": "view-in-github",
        "colab_type": "text"
      },
      "source": [
        "<a href=\"https://colab.research.google.com/github/bahereh/Data-Science-Projects/blob/master/KPI.ipynb\" target=\"_parent\"><img src=\"https://colab.research.google.com/assets/colab-badge.svg\" alt=\"Open In Colab\"/></a>"
      ]
    },
    {
      "cell_type": "code",
      "execution_count": 207,
      "metadata": {
        "colab": {
          "base_uri": "https://localhost:8080/",
          "height": 297
        },
        "id": "au-htYxYKuFo",
        "outputId": "99df6699-59ec-4dec-b097-efcf66f8d326"
      },
      "outputs": [
        {
          "output_type": "display_data",
          "data": {
            "text/plain": [
              "<Figure size 432x288 with 1 Axes>"
            ],
            "image/png": "[encoded data removed]"
          },
          "metadata": {
            "needs_background": "light"
          }
        },
        {
          "output_type": "stream",
          "name": "stdout",
          "text": [
            "62 19\n"
          ]
        }
      ],
      "source": [
        "import matplotlib.pyplot as plt\n",
        "import pandas as pd\n",
        "import tensorflow as tf\n",
        "from tensorflow.keras.models import Sequential\n",
        "from tensorflow.keras.layers import Dense\n",
        "from tensorflow.keras.layers import LSTM\n",
        "from sklearn.preprocessing import MinMaxScaler\n",
        "from sklearn.metrics import mean_squared_error\n",
        "\n",
        "# fix random seed for reproducibility\n",
        "tf.random.set_seed(7)\n",
        "dataframe = pd.read_csv('KPI.csv', usecols=[1], engine='python')\n",
        "dataframe2 = pd.read_csv('KPI.csv', usecols=[0], engine='python')\n",
        "names = dataframe2.values.astype('str')\n",
        "\n",
        "\n",
        "\n",
        "dataset = dataframe.values\n",
        "dataset = dataset.astype('float32')\n",
        "plt.plot(dataset)\n",
        "plt.xlabel('date')\n",
        "plt.ylabel('KPI')\n",
        "plt.show()\n",
        "\n",
        "dataset = dataset[75:]\n",
        "# normalize the dataset\n",
        "scaler = MinMaxScaler(feature_range=(0, 1)) #\n",
        "dataset = scaler.fit_transform(dataset) #.reshape(-1,1)\n",
        "# dataset is between 0,1\n",
        "\n",
        "# split into train and test sets\n",
        "train_size = int(len(dataset) * 0.77)\n",
        "test_size = len(dataset) - train_size\n",
        "train, test = dataset[0:train_size,:], dataset[train_size:len(dataset),:]\n",
        "print(len(train), len(test))\n",
        "\n",
        "\n",
        "# convert an array of values into a dataset matrix\n",
        "import numpy as np\n",
        "def create_dataset(dataset, look_back=1):\n",
        "\tdataX, dataY = [], []\n",
        "\tfor i in range(len(dataset)-look_back-1):\n",
        "\t\ta = dataset[i:(i+look_back), 0]\n",
        "\t\tdataX.append(a)\n",
        "\t\tdataY.append(dataset[i + look_back, 0])\n",
        "\treturn np.array(dataX), np.array(dataY)\n",
        "\n",
        "\n",
        "# reshape into X=t and Y=t+1\n",
        "look_back = 10\n",
        "trainX, trainY = create_dataset(train, look_back)\n",
        "testX, testY = create_dataset(test, look_back)\n",
        "\n",
        "\n",
        "# reshape input to be [samples, time steps, features]\n",
        "trainX = np.reshape(trainX, (trainX.shape[0], trainX.shape[1], 1))\n",
        "testX = np.reshape(testX, (testX.shape[0], testX.shape[1], 1))\n"
      ]
    },
    {
      "cell_type": "code",
      "source": [
        "# create and fit the LSTM network\n",
        "model = Sequential()\n",
        "model.add(LSTM(30,return_sequences=True,input_shape=(look_back,1)))\n",
        "model.add(LSTM(30,return_sequences=True))\n",
        "model.add(LSTM(30))\n",
        "model.add(Dense(1)) # Final output\n",
        "model.compile(loss='mean_squared_error', optimizer='adam')"
      ],
      "metadata": {
        "id": "nprlGet0K2Vm"
      },
      "execution_count": 181,
      "outputs": []
    },
    {
      "cell_type": "code",
      "source": [
        "model.summary()"
      ],
      "metadata": {
        "colab": {
          "base_uri": "https://localhost:8080/"
        },
        "id": "U2j8fCANLfF0",
        "outputId": "42274839-0be2-4a8c-da92-3f7d910a2026"
      },
      "execution_count": 182,
      "outputs": [
        {
          "output_type": "stream",
          "name": "stdout",
          "text": [
            "Model: \"sequential_19\"\n",
            "_________________________________________________________________\n",
            " Layer (type)                Output Shape              Param #   \n",
            "=================================================================\n",
            " lstm_57 (LSTM)              (None, 10, 30)            3840      \n",
            "                                                                 \n",
            " lstm_58 (LSTM)              (None, 10, 30)            7320      \n",
            "                                                                 \n",
            " lstm_59 (LSTM)              (None, 30)                7320      \n",
            "                                                                 \n",
            " dense_19 (Dense)            (None, 1)                 31        \n",
            "                                                                 \n",
            "=================================================================\n",
            "Total params: 18,511\n",
            "Trainable params: 18,511\n",
            "Non-trainable params: 0\n",
            "_________________________________________________________________\n"
          ]
        }
      ]
    },
    {
      "cell_type": "code",
      "source": [
        "model.fit(trainX, trainY, epochs=100, batch_size=1, verbose=2)"
      ],
      "metadata": {
        "colab": {
          "base_uri": "https://localhost:8080/"
        },
        "id": "vUe7EBIILjlf",
        "outputId": "bcbbe38e-a529-4f53-ad76-f67d8b877770"
      },
      "execution_count": 183,
      "outputs": [
        {
          "output_type": "stream",
          "name": "stdout",
          "text": [
            "Epoch 1/100\n",
            "51/51 - 5s - loss: 0.0178 - 5s/epoch - 89ms/step\n",
            "Epoch 2/100\n",
            "51/51 - 0s - loss: 0.0015 - 447ms/epoch - 9ms/step\n",
            "Epoch 3/100\n",
            "51/51 - 0s - loss: 5.3688e-04 - 444ms/epoch - 9ms/step\n",
            "Epoch 4/100\n",
            "51/51 - 0s - loss: 2.3984e-04 - 447ms/epoch - 9ms/step\n",
            "Epoch 5/100\n",
            "51/51 - 0s - loss: 1.4209e-04 - 434ms/epoch - 9ms/step\n",
            "Epoch 6/100\n",
            "51/51 - 0s - loss: 1.9808e-04 - 434ms/epoch - 9ms/step\n",
            "Epoch 7/100\n",
            "51/51 - 0s - loss: 1.5717e-04 - 441ms/epoch - 9ms/step\n",
            "Epoch 8/100\n",
            "51/51 - 0s - loss: 2.2231e-04 - 427ms/epoch - 8ms/step\n",
            "Epoch 9/100\n",
            "51/51 - 0s - loss: 4.0975e-04 - 433ms/epoch - 8ms/step\n",
            "Epoch 10/100\n",
            "51/51 - 0s - loss: 1.7677e-04 - 427ms/epoch - 8ms/step\n",
            "Epoch 11/100\n",
            "51/51 - 0s - loss: 2.4877e-04 - 448ms/epoch - 9ms/step\n",
            "Epoch 12/100\n",
            "51/51 - 0s - loss: 3.2298e-04 - 427ms/epoch - 8ms/step\n",
            "Epoch 13/100\n",
            "51/51 - 0s - loss: 1.3687e-04 - 435ms/epoch - 9ms/step\n",
            "Epoch 14/100\n",
            "51/51 - 0s - loss: 1.6464e-04 - 453ms/epoch - 9ms/step\n",
            "Epoch 15/100\n",
            "51/51 - 0s - loss: 2.3322e-04 - 450ms/epoch - 9ms/step\n",
            "Epoch 16/100\n",
            "51/51 - 0s - loss: 2.6209e-04 - 447ms/epoch - 9ms/step\n",
            "Epoch 17/100\n",
            "51/51 - 0s - loss: 1.7444e-04 - 430ms/epoch - 8ms/step\n",
            "Epoch 18/100\n",
            "51/51 - 0s - loss: 1.2951e-04 - 450ms/epoch - 9ms/step\n",
            "Epoch 19/100\n",
            "51/51 - 0s - loss: 2.4065e-04 - 437ms/epoch - 9ms/step\n",
            "Epoch 20/100\n",
            "51/51 - 0s - loss: 1.5585e-04 - 432ms/epoch - 8ms/step\n",
            "Epoch 21/100\n",
            "51/51 - 0s - loss: 2.8866e-04 - 439ms/epoch - 9ms/step\n",
            "Epoch 22/100\n",
            "51/51 - 0s - loss: 2.2322e-04 - 415ms/epoch - 8ms/step\n",
            "Epoch 23/100\n",
            "51/51 - 0s - loss: 1.9802e-04 - 430ms/epoch - 8ms/step\n",
            "Epoch 24/100\n",
            "51/51 - 0s - loss: 1.3444e-04 - 447ms/epoch - 9ms/step\n",
            "Epoch 25/100\n",
            "51/51 - 0s - loss: 2.2798e-04 - 440ms/epoch - 9ms/step\n",
            "Epoch 26/100\n",
            "51/51 - 0s - loss: 2.3256e-04 - 417ms/epoch - 8ms/step\n",
            "Epoch 27/100\n",
            "51/51 - 0s - loss: 2.2532e-04 - 421ms/epoch - 8ms/step\n",
            "Epoch 28/100\n",
            "51/51 - 0s - loss: 1.4622e-04 - 446ms/epoch - 9ms/step\n",
            "Epoch 29/100\n",
            "51/51 - 0s - loss: 1.1591e-04 - 429ms/epoch - 8ms/step\n",
            "Epoch 30/100\n",
            "51/51 - 0s - loss: 1.5772e-04 - 424ms/epoch - 8ms/step\n",
            "Epoch 31/100\n",
            "51/51 - 0s - loss: 6.6134e-04 - 415ms/epoch - 8ms/step\n",
            "Epoch 32/100\n",
            "51/51 - 0s - loss: 2.6661e-04 - 433ms/epoch - 8ms/step\n",
            "Epoch 33/100\n",
            "51/51 - 0s - loss: 1.1730e-04 - 431ms/epoch - 8ms/step\n",
            "Epoch 34/100\n",
            "51/51 - 0s - loss: 1.7319e-04 - 423ms/epoch - 8ms/step\n",
            "Epoch 35/100\n",
            "51/51 - 0s - loss: 2.3684e-04 - 431ms/epoch - 8ms/step\n",
            "Epoch 36/100\n",
            "51/51 - 0s - loss: 3.8939e-04 - 409ms/epoch - 8ms/step\n",
            "Epoch 37/100\n",
            "51/51 - 0s - loss: 2.8478e-04 - 420ms/epoch - 8ms/step\n",
            "Epoch 38/100\n",
            "51/51 - 0s - loss: 1.8979e-04 - 424ms/epoch - 8ms/step\n",
            "Epoch 39/100\n",
            "51/51 - 0s - loss: 1.7616e-04 - 439ms/epoch - 9ms/step\n",
            "Epoch 40/100\n",
            "51/51 - 0s - loss: 9.1167e-05 - 433ms/epoch - 8ms/step\n",
            "Epoch 41/100\n",
            "51/51 - 0s - loss: 1.2683e-04 - 427ms/epoch - 8ms/step\n",
            "Epoch 42/100\n",
            "51/51 - 0s - loss: 1.5775e-04 - 430ms/epoch - 8ms/step\n",
            "Epoch 43/100\n",
            "51/51 - 0s - loss: 1.9193e-04 - 425ms/epoch - 8ms/step\n",
            "Epoch 44/100\n",
            "51/51 - 0s - loss: 1.1311e-04 - 455ms/epoch - 9ms/step\n",
            "Epoch 45/100\n",
            "51/51 - 0s - loss: 1.0484e-04 - 421ms/epoch - 8ms/step\n",
            "Epoch 46/100\n",
            "51/51 - 0s - loss: 1.6726e-04 - 434ms/epoch - 9ms/step\n",
            "Epoch 47/100\n",
            "51/51 - 0s - loss: 2.2571e-04 - 418ms/epoch - 8ms/step\n",
            "Epoch 48/100\n",
            "51/51 - 0s - loss: 1.3793e-04 - 434ms/epoch - 9ms/step\n",
            "Epoch 49/100\n",
            "51/51 - 0s - loss: 7.7367e-05 - 437ms/epoch - 9ms/step\n",
            "Epoch 50/100\n",
            "51/51 - 0s - loss: 1.8757e-04 - 436ms/epoch - 9ms/step\n",
            "Epoch 51/100\n",
            "51/51 - 0s - loss: 1.6289e-04 - 440ms/epoch - 9ms/step\n",
            "Epoch 52/100\n",
            "51/51 - 0s - loss: 3.6003e-04 - 431ms/epoch - 8ms/step\n",
            "Epoch 53/100\n",
            "51/51 - 0s - loss: 2.2823e-04 - 433ms/epoch - 8ms/step\n",
            "Epoch 54/100\n",
            "51/51 - 0s - loss: 1.2355e-04 - 423ms/epoch - 8ms/step\n",
            "Epoch 55/100\n",
            "51/51 - 0s - loss: 1.6477e-04 - 424ms/epoch - 8ms/step\n",
            "Epoch 56/100\n",
            "51/51 - 0s - loss: 1.3377e-04 - 419ms/epoch - 8ms/step\n",
            "Epoch 57/100\n",
            "51/51 - 0s - loss: 1.4404e-04 - 426ms/epoch - 8ms/step\n",
            "Epoch 58/100\n",
            "51/51 - 0s - loss: 2.3841e-04 - 423ms/epoch - 8ms/step\n",
            "Epoch 59/100\n",
            "51/51 - 0s - loss: 3.1665e-04 - 430ms/epoch - 8ms/step\n",
            "Epoch 60/100\n",
            "51/51 - 0s - loss: 1.0863e-04 - 431ms/epoch - 8ms/step\n",
            "Epoch 61/100\n",
            "51/51 - 0s - loss: 1.6832e-04 - 446ms/epoch - 9ms/step\n",
            "Epoch 62/100\n",
            "51/51 - 0s - loss: 1.3430e-04 - 431ms/epoch - 8ms/step\n",
            "Epoch 63/100\n",
            "51/51 - 0s - loss: 1.7259e-04 - 443ms/epoch - 9ms/step\n",
            "Epoch 64/100\n",
            "51/51 - 0s - loss: 1.1103e-04 - 439ms/epoch - 9ms/step\n",
            "Epoch 65/100\n",
            "51/51 - 0s - loss: 1.7258e-04 - 433ms/epoch - 8ms/step\n",
            "Epoch 66/100\n",
            "51/51 - 0s - loss: 1.5909e-04 - 425ms/epoch - 8ms/step\n",
            "Epoch 67/100\n",
            "51/51 - 0s - loss: 1.1495e-04 - 418ms/epoch - 8ms/step\n",
            "Epoch 68/100\n",
            "51/51 - 0s - loss: 1.1871e-04 - 433ms/epoch - 8ms/step\n",
            "Epoch 69/100\n",
            "51/51 - 0s - loss: 1.2561e-04 - 420ms/epoch - 8ms/step\n",
            "Epoch 70/100\n",
            "51/51 - 0s - loss: 1.3764e-04 - 433ms/epoch - 8ms/step\n",
            "Epoch 71/100\n",
            "51/51 - 0s - loss: 1.9809e-04 - 417ms/epoch - 8ms/step\n",
            "Epoch 72/100\n",
            "51/51 - 0s - loss: 4.2670e-04 - 443ms/epoch - 9ms/step\n",
            "Epoch 73/100\n",
            "51/51 - 0s - loss: 4.1502e-04 - 425ms/epoch - 8ms/step\n",
            "Epoch 74/100\n",
            "51/51 - 0s - loss: 2.1484e-04 - 415ms/epoch - 8ms/step\n",
            "Epoch 75/100\n",
            "51/51 - 0s - loss: 2.3374e-04 - 440ms/epoch - 9ms/step\n",
            "Epoch 76/100\n",
            "51/51 - 0s - loss: 1.8046e-04 - 425ms/epoch - 8ms/step\n",
            "Epoch 77/100\n",
            "51/51 - 0s - loss: 1.9382e-04 - 439ms/epoch - 9ms/step\n",
            "Epoch 78/100\n",
            "51/51 - 0s - loss: 1.0783e-04 - 409ms/epoch - 8ms/step\n",
            "Epoch 79/100\n",
            "51/51 - 0s - loss: 1.2462e-04 - 442ms/epoch - 9ms/step\n",
            "Epoch 80/100\n",
            "51/51 - 0s - loss: 1.3170e-04 - 432ms/epoch - 8ms/step\n",
            "Epoch 81/100\n",
            "51/51 - 0s - loss: 1.9399e-04 - 419ms/epoch - 8ms/step\n",
            "Epoch 82/100\n",
            "51/51 - 0s - loss: 1.2898e-04 - 441ms/epoch - 9ms/step\n",
            "Epoch 83/100\n",
            "51/51 - 0s - loss: 1.1879e-04 - 433ms/epoch - 8ms/step\n",
            "Epoch 84/100\n",
            "51/51 - 0s - loss: 2.7944e-04 - 450ms/epoch - 9ms/step\n",
            "Epoch 85/100\n",
            "51/51 - 0s - loss: 1.3252e-04 - 423ms/epoch - 8ms/step\n",
            "Epoch 86/100\n",
            "51/51 - 0s - loss: 1.0321e-04 - 442ms/epoch - 9ms/step\n",
            "Epoch 87/100\n",
            "51/51 - 0s - loss: 1.7309e-04 - 426ms/epoch - 8ms/step\n",
            "Epoch 88/100\n",
            "51/51 - 0s - loss: 1.4700e-04 - 423ms/epoch - 8ms/step\n",
            "Epoch 89/100\n",
            "51/51 - 0s - loss: 1.2787e-04 - 433ms/epoch - 8ms/step\n",
            "Epoch 90/100\n",
            "51/51 - 0s - loss: 1.2982e-04 - 451ms/epoch - 9ms/step\n",
            "Epoch 91/100\n",
            "51/51 - 0s - loss: 1.3045e-04 - 438ms/epoch - 9ms/step\n",
            "Epoch 92/100\n",
            "51/51 - 0s - loss: 1.4573e-04 - 423ms/epoch - 8ms/step\n",
            "Epoch 93/100\n",
            "51/51 - 1s - loss: 1.0869e-04 - 649ms/epoch - 13ms/step\n",
            "Epoch 94/100\n",
            "51/51 - 1s - loss: 1.2216e-04 - 668ms/epoch - 13ms/step\n",
            "Epoch 95/100\n",
            "51/51 - 1s - loss: 2.6682e-04 - 826ms/epoch - 16ms/step\n",
            "Epoch 96/100\n",
            "51/51 - 1s - loss: 1.4386e-04 - 655ms/epoch - 13ms/step\n",
            "Epoch 97/100\n",
            "51/51 - 1s - loss: 1.8337e-04 - 736ms/epoch - 14ms/step\n",
            "Epoch 98/100\n",
            "51/51 - 1s - loss: 1.4870e-04 - 714ms/epoch - 14ms/step\n",
            "Epoch 99/100\n",
            "51/51 - 1s - loss: 1.2742e-04 - 650ms/epoch - 13ms/step\n",
            "Epoch 100/100\n",
            "51/51 - 1s - loss: 1.4377e-04 - 659ms/epoch - 13ms/step\n"
          ]
        },
        {
          "output_type": "execute_result",
          "data": {
            "text/plain": [
              "<keras.callbacks.History at 0x7fafd095b510>"
            ]
          },
          "metadata": {},
          "execution_count": 183
        }
      ]
    },
    {
      "cell_type": "code",
      "source": [
        "\n",
        "\n",
        "# make predictions\n",
        "trainPredict = model.predict(trainX)\n",
        "testPredict = model.predict(testX)\n",
        "# invert predictions\n",
        "trainPredict = scaler.inverse_transform(trainPredict)\n",
        "trainY = scaler.inverse_transform([trainY])\n",
        "testPredict = scaler.inverse_transform(testPredict)\n",
        "testY = scaler.inverse_transform([testY])\n",
        "# calculate root mean squared error\n",
        "trainScore = np.sqrt(mean_squared_error(trainY[0], trainPredict[:,0]))\n",
        "print('Train Score: %.2f RMSE' % (trainScore))\n",
        "testScore = np.sqrt(mean_squared_error(testY[0], testPredict[:,0]))\n",
        "print('Test Score: %.2f RMSE' % (testScore))"
      ],
      "metadata": {
        "colab": {
          "base_uri": "https://localhost:8080/"
        },
        "id": "lUv49NT5K1Ia",
        "outputId": "ad80f3b0-f53d-409f-9cd0-bd20365380c6"
      },
      "execution_count": 184,
      "outputs": [
        {
          "output_type": "stream",
          "name": "stdout",
          "text": [
            "Train Score: 1.58 RMSE\n",
            "Test Score: 17.73 RMSE\n"
          ]
        }
      ]
    },
    {
      "cell_type": "code",
      "source": [
        "# shift train predictions for plotting\n",
        "trainPredictPlot = np.empty_like(dataset)\n",
        "trainPredictPlot[:, :] = np.nan\n",
        "trainPredictPlot[look_back:len(trainPredict)+look_back, :] = trainPredict\n",
        "# shift test predictions for plotting\n",
        "testPredictPlot = np.empty_like(dataset)\n",
        "testPredictPlot[:, :] = np.nan\n",
        "testPredictPlot[len(trainPredict)+(look_back*2)+1:len(dataset)-1, :] = testPredict\n",
        "# plot baseline and predictions\n",
        "plt.plot(scaler.inverse_transform(dataset))\n",
        "plt.plot(trainPredictPlot)\n",
        "plt.plot(testPredictPlot)\n",
        "plt.show()\n",
        "# [USING THE TRAINED MODEL]"
      ],
      "metadata": {
        "colab": {
          "base_uri": "https://localhost:8080/",
          "height": 265
        },
        "id": "sWfAa311K5_H",
        "outputId": "f66fb740-3d8b-4d7e-c1da-aa342f34f0ad"
      },
      "execution_count": 185,
      "outputs": [
        {
          "output_type": "display_data",
          "data": {
            "text/plain": [
              "<Figure size 432x288 with 1 Axes>"
            ],
            "image/png": "[encoded data removed]"
          },
          "metadata": {
            "needs_background": "light"
          }
        }
      ]
    },
    {
      "cell_type": "code",
      "source": [
        "#Predict the future 12 month\n",
        "\n",
        "x_input=test[len(test)-look_back:].reshape(1,-1)\n",
        "x_input.shape\n",
        "temp_input = list(x_input)\n",
        "temp_input = temp_input[0].tolist() # take all the values\n",
        "print(temp_input)\n",
        "x_input.shape\n"
      ],
      "metadata": {
        "colab": {
          "base_uri": "https://localhost:8080/"
        },
        "id": "1sqQPAurNM5k",
        "outputId": "87f74155-12e4-426e-938d-c2ca822b58e4"
      },
      "execution_count": 186,
      "outputs": [
        {
          "output_type": "stream",
          "name": "stdout",
          "text": [
            "[0.5788655281066895, 0.611499547958374, 0.6658896207809448, 0.728826642036438, 0.7793316841125488, 0.8197357654571533, 0.8632477521896362, 0.8857808113098145, 0.9292927980422974, 0.9999998807907104]\n"
          ]
        },
        {
          "output_type": "execute_result",
          "data": {
            "text/plain": [
              "(1, 10)"
            ]
          },
          "metadata": {},
          "execution_count": 186
        }
      ]
    },
    {
      "cell_type": "code",
      "source": [
        "# demonstrate prediction for next 10 days\n",
        "from numpy import array\n",
        "duration = 12\n",
        "print(len(temp_input), temp_input, type(temp_input))\n",
        "xxx = len(temp_input)\n",
        "lst_output=[]\n",
        "n_steps=look_back\n",
        "i=0\n",
        "while(i<duration): # FORECASTING #) DAYS\n",
        "    \n",
        "    if(xxx>look_back):\n",
        "      #print(temp_input)\n",
        "        x_input=np.array(temp_input[1:])\n",
        "        print(\"{} day input {}\".format(i,x_input))\n",
        "        x_input=x_input.reshape(1,-1)\n",
        "        x_input = x_input.reshape((1, n_steps, 1))\n",
        "        #print(x_input)\n",
        "        yhat = model.predict(x_input, verbose=0)\n",
        "        print(\"{} day output {}\".format(i,yhat))\n",
        "        temp_input.extend(yhat[0].tolist())\n",
        "        temp_input=temp_input[1:]\n",
        "        #print(temp_input)\n",
        "        lst_output.extend(yhat.tolist())\n",
        "        i=i+1\n",
        "        xxx = len(list(temp_input))\n",
        "    else:\n",
        "      print('FIRST')\n",
        "      x_input = x_input.reshape((1, n_steps,1))\n",
        "      print(x_input)\n",
        "      yhat = model.predict(x_input, verbose=0)\n",
        "      print(yhat[0])\n",
        "      temp_input.extend(yhat[0].tolist())\n",
        "      print(len(temp_input))\n",
        "      lst_output.extend(yhat.tolist())\n",
        "      xxx = len(list(temp_input))\n",
        "      i=i+1\n",
        "    \n",
        "\n",
        "print(lst_output)"
      ],
      "metadata": {
        "colab": {
          "base_uri": "https://localhost:8080/"
        },
        "id": "g-HGk6VcUENw",
        "outputId": "39d022d5-ea8c-4998-c503-f51e072b4488"
      },
      "execution_count": 187,
      "outputs": [
        {
          "output_type": "stream",
          "name": "stdout",
          "text": [
            "10 [0.5788655281066895, 0.611499547958374, 0.6658896207809448, 0.728826642036438, 0.7793316841125488, 0.8197357654571533, 0.8632477521896362, 0.8857808113098145, 0.9292927980422974, 0.9999998807907104] <class 'list'>\n",
            "FIRST\n",
            "[[[0.5788655 ]\n",
            "  [0.61149955]\n",
            "  [0.6658896 ]\n",
            "  [0.72882664]\n",
            "  [0.7793317 ]\n",
            "  [0.81973577]\n",
            "  [0.86324775]\n",
            "  [0.8857808 ]\n",
            "  [0.9292928 ]\n",
            "  [0.9999999 ]]]\n",
            "[0.87439305]\n",
            "11\n",
            "1 day input [0.61149955 0.66588962 0.72882664 0.77933168 0.81973577 0.86324775\n",
            " 0.88578081 0.9292928  0.99999988 0.87439305]\n",
            "1 day output [[0.91665775]]\n",
            "2 day input [0.66588962 0.72882664 0.77933168 0.81973577 0.86324775 0.88578081\n",
            " 0.9292928  0.99999988 0.87439305 0.91665775]\n",
            "2 day output [[0.95297164]]\n",
            "3 day input [0.72882664 0.77933168 0.81973577 0.86324775 0.88578081 0.9292928\n",
            " 0.99999988 0.87439305 0.91665775 0.95297164]\n",
            "3 day output [[0.98220146]]\n",
            "4 day input [0.77933168 0.81973577 0.86324775 0.88578081 0.9292928  0.99999988\n",
            " 0.87439305 0.91665775 0.95297164 0.98220146]\n",
            "4 day output [[1.0048977]]\n",
            "5 day input [0.81973577 0.86324775 0.88578081 0.9292928  0.99999988 0.87439305\n",
            " 0.91665775 0.95297164 0.98220146 1.00489771]\n",
            "5 day output [[1.0231655]]\n",
            "6 day input [0.86324775 0.88578081 0.9292928  0.99999988 0.87439305 0.91665775\n",
            " 0.95297164 0.98220146 1.00489771 1.02316546]\n",
            "6 day output [[1.0384545]]\n",
            "7 day input [0.88578081 0.9292928  0.99999988 0.87439305 0.91665775 0.95297164\n",
            " 0.98220146 1.00489771 1.02316546 1.03845453]\n",
            "7 day output [[1.0509719]]\n",
            "8 day input [0.9292928  0.99999988 0.87439305 0.91665775 0.95297164 0.98220146\n",
            " 1.00489771 1.02316546 1.03845453 1.05097187]\n",
            "8 day output [[1.0625958]]\n",
            "9 day input [0.99999988 0.87439305 0.91665775 0.95297164 0.98220146 1.00489771\n",
            " 1.02316546 1.03845453 1.05097187 1.06259584]\n",
            "9 day output [[1.0719992]]\n",
            "10 day input [0.87439305 0.91665775 0.95297164 0.98220146 1.00489771 1.02316546\n",
            " 1.03845453 1.05097187 1.06259584 1.07199919]\n",
            "10 day output [[1.0778934]]\n",
            "11 day input [0.91665775 0.95297164 0.98220146 1.00489771 1.02316546 1.03845453\n",
            " 1.05097187 1.06259584 1.07199919 1.07789338]\n",
            "11 day output [[1.0935037]]\n",
            "[[0.8743930459022522], [0.9166577458381653], [0.9529716372489929], [0.9822014570236206], [1.0048977136611938], [1.0231654644012451], [1.038454532623291], [1.0509718656539917], [1.0625958442687988], [1.071999192237854], [1.0778933763504028], [1.093503713607788]]\n"
          ]
        }
      ]
    },
    {
      "cell_type": "code",
      "source": [
        "print('THE PREDICTED DOLLAR VALUE IS: ', scaler.inverse_transform(lst_output))\n",
        "print(len(lst_output))\n",
        "tmp=test[len(test)-look_back:].reshape(1,-1)\n",
        "tmp.shape\n",
        "temp = list(tmp)\n",
        "temp = temp[0].tolist() # take all the values\n",
        "print(temp[-3:])\n",
        "print(lst_output)\n",
        "day_new=np.arange(1,51)\n",
        "day_pred=np.arange(51,51+duration)\n",
        "#https://github.com/krishnaik06/Stock-MArket-Forecasting/blob/master/Untitled.ipynb\n"
      ],
      "metadata": {
        "colab": {
          "base_uri": "https://localhost:8080/"
        },
        "id": "S0axKSlZUNnf",
        "outputId": "c7c0e717-58af-4eba-f94a-4e5a990774ad"
      },
      "execution_count": 188,
      "outputs": [
        {
          "output_type": "stream",
          "name": "stdout",
          "text": [
            "THE PREDICTED DOLLAR VALUE IS:  [[160.63439575]\n",
            " [166.07386316]\n",
            " [170.74746144]\n",
            " [174.50933962]\n",
            " [177.43034813]\n",
            " [179.78140788]\n",
            " [181.74911115]\n",
            " [183.36009207]\n",
            " [184.85609827]\n",
            " [186.06630927]\n",
            " [186.82489084]\n",
            " [188.83394144]]\n",
            "12\n",
            "[0.8857808113098145, 0.9292927980422974, 0.9999998807907104]\n",
            "[[0.8743930459022522], [0.9166577458381653], [0.9529716372489929], [0.9822014570236206], [1.0048977136611938], [1.0231654644012451], [1.038454532623291], [1.0509718656539917], [1.0625958442687988], [1.071999192237854], [1.0778933763504028], [1.093503713607788]]\n"
          ]
        }
      ]
    },
    {
      "cell_type": "code",
      "source": [
        "import matplotlib.pyplot as plt\n",
        "print(len(dataset))\n",
        "\n",
        "plt.figure(figsize=(16, 7))\n",
        "plt.xlabel('Date')\n",
        "plt.ylabel('Commodity price')\n",
        "plt.plot(day_new,scaler.inverse_transform(dataset[len(dataset)-50:]),marker = '.')\n",
        "plt.plot(day_pred,scaler.inverse_transform(lst_output),marker = '.')\n",
        "new_names = ['1398-1','1398-2','1398-3','1398-4','1398-5','1398-6','1398-7','1398-8','1398-9','1398-10','1398-11','1398-12']\n",
        "plt.legend(['Current values','Estimated values'])\n",
        "plt.xticks([i for i in range(63)],list(names[-50:])+new_names,rotation = 75)\n",
        "plt.grid()\n"
      ],
      "metadata": {
        "colab": {
          "base_uri": "https://localhost:8080/",
          "height": 506
        },
        "id": "G-PLHuSoURHA",
        "outputId": "2e7df3df-aaa4-4d00-fbeb-d0b81dea9cc6"
      },
      "execution_count": 213,
      "outputs": [
        {
          "output_type": "stream",
          "name": "stdout",
          "text": [
            "81\n"
          ]
        },
        {
          "output_type": "display_data",
          "data": {
            "text/plain": [
              "<Figure size 1152x504 with 1 Axes>"
            ],
            "image/png": "[encoded data removed]"
          },
          "metadata": {
            "needs_background": "light"
          }
        }
      ]
    },
    {
      "cell_type": "code",
      "source": [
        ""
      ],
      "metadata": {
        "id": "lOCkAeq3kwSF"
      },
      "execution_count": null,
      "outputs": []
    }
  ]
}